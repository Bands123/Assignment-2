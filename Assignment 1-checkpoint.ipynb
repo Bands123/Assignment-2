{
 "cells": [
  {
   "cell_type": "markdown",
   "metadata": {},
   "source": [
    "# 1.Write a program which contains one function named as Fun(). That function should display “Hello from Fun” on console"
   ]
  },
  {
   "cell_type": "code",
   "execution_count": 1,
   "metadata": {},
   "outputs": [
    {
     "name": "stdout",
     "output_type": "stream",
     "text": [
      "Hello From Fun\n"
     ]
    }
   ],
   "source": [
    "def fun():\n",
    "    \n",
    "    print(\"Hello From Fun\")\n",
    "    \n",
    "fun()"
   ]
  },
  {
   "cell_type": "markdown",
   "metadata": {},
   "source": [
    "# 2.Write a program which contains one function named as ChkNum () which accept one parameter as number. If number is even then it should display “Even number” otherwise display “Odd number” on console.\n"
   ]
  },
  {
   "cell_type": "code",
   "execution_count": 2,
   "metadata": {},
   "outputs": [
    {
     "name": "stdout",
     "output_type": "stream",
     "text": [
      "Enter No.5\n",
      "Number is Odd\n"
     ]
    }
   ],
   "source": [
    "def chkNum(x):\n",
    "    \n",
    "    if x == 0:\n",
    "        \n",
    "        print(\"Number is Even\")\n",
    "        \n",
    "    else: \n",
    "        \n",
    "        print(\"Number is Odd\")\n",
    "x = float(input(\"Enter No.\"))        \n",
    "        \n",
    "chkNum(x) "
   ]
  },
  {
   "cell_type": "markdown",
   "metadata": {},
   "source": [
    "# 3.Write a program which contains one function named as Add () which accepts two numbers from user and return addition of that two numbers."
   ]
  },
  {
   "cell_type": "code",
   "execution_count": 3,
   "metadata": {},
   "outputs": [
    {
     "name": "stdout",
     "output_type": "stream",
     "text": [
      "Enter the 1st No.5\n",
      "Enter the 2nd No.8\n",
      "Addittion is =\n"
     ]
    },
    {
     "data": {
      "text/plain": [
       "'58'"
      ]
     },
     "execution_count": 3,
     "metadata": {},
     "output_type": "execute_result"
    }
   ],
   "source": [
    "def Add(x,y):\n",
    "    \n",
    "    return x+y\n",
    "  \n",
    "x = input (\"Enter the 1st No.\")\n",
    "y = input (\"Enter the 2nd No.\")  \n",
    "    \n",
    "print(\"Addittion is =\")\n",
    "Add(x,y)"
   ]
  },
  {
   "cell_type": "markdown",
   "metadata": {},
   "source": [
    "# 4.Write a program which display 5 times Marvelous on screen."
   ]
  },
  {
   "cell_type": "code",
   "execution_count": 4,
   "metadata": {},
   "outputs": [
    {
     "name": "stdout",
     "output_type": "stream",
     "text": [
      "Marvelous\n",
      "Marvelous\n",
      "Marvelous\n",
      "Marvelous\n",
      "Marvelous\n"
     ]
    }
   ],
   "source": [
    "for Marvelous in range(5):\n",
    "    \n",
    "    print(\"Marvelous\")"
   ]
  },
  {
   "cell_type": "markdown",
   "metadata": {},
   "source": [
    "# 5.Write a program which display 10 to 1 on screen."
   ]
  },
  {
   "cell_type": "code",
   "execution_count": 5,
   "metadata": {},
   "outputs": [
    {
     "data": {
      "text/plain": [
       "[10, 9, 8, 7, 6, 5, 4, 3, 2, 1]"
      ]
     },
     "execution_count": 5,
     "metadata": {},
     "output_type": "execute_result"
    }
   ],
   "source": [
    "text = [1,2,3,4,5,6,7,8,9,10]\n",
    "x = text.reverse()\n",
    "text"
   ]
  },
  {
   "cell_type": "markdown",
   "metadata": {},
   "source": [
    "# 6. Write a program which accept number from user and check whether that number is positive or negative or zero."
   ]
  },
  {
   "cell_type": "code",
   "execution_count": 6,
   "metadata": {},
   "outputs": [
    {
     "name": "stdout",
     "output_type": "stream",
     "text": [
      "Enter No.8\n",
      "No is Positive\n"
     ]
    }
   ],
   "source": [
    "def Num(x):\n",
    "    \n",
    "    if x > 0:\n",
    "        \n",
    "        print (\"No is Positive\")\n",
    "  \n",
    "        \n",
    "    elif x == 0  : \n",
    "        \n",
    "        print(\"No.  is Zero \")\n",
    "        \n",
    "    else:\n",
    "        print(\"NO. is Negative\")\n",
    "x = int(input(\"Enter No.\"))   \n",
    "Num(x)"
   ]
  },
  {
   "cell_type": "markdown",
   "metadata": {},
   "source": [
    "# 7. Write a program which contains one function that accept one number from user and returns true if number is divisible by 5 otherwise return false."
   ]
  },
  {
   "cell_type": "code",
   "execution_count": 9,
   "metadata": {},
   "outputs": [
    {
     "name": "stdout",
     "output_type": "stream",
     "text": [
      "Enter Value5\n",
      "The Value is True\n"
     ]
    }
   ],
   "source": [
    "def Num(x):\n",
    "    if(x%5 == 0):\n",
    "        \n",
    "        print(\"The Value is True\")\n",
    "        \n",
    "    else:\n",
    "        \n",
    "        print(\"The Value is False\")\n",
    "        \n",
    "x = float(input(\"Enter Value\"))        \n",
    "Num(x)        "
   ]
  },
  {
   "cell_type": "markdown",
   "metadata": {},
   "source": [
    "# 8. Write a program which accept number from user and print that number of “*” on screen."
   ]
  },
  {
   "cell_type": "code",
   "execution_count": 10,
   "metadata": {},
   "outputs": [
    {
     "name": "stdout",
     "output_type": "stream",
     "text": [
      "*******\n"
     ]
    }
   ],
   "source": [
    "text = \"*******\"\n",
    "print(text)"
   ]
  },
  {
   "cell_type": "markdown",
   "metadata": {},
   "source": [
    "# 9. Write a program which display first 10 even numbers on screen.\n"
   ]
  },
  {
   "cell_type": "code",
   "execution_count": 11,
   "metadata": {},
   "outputs": [
    {
     "data": {
      "text/plain": [
       "[0, 2, 4, 6, 8, 10, 12, 14, 16, 18]"
      ]
     },
     "execution_count": 11,
     "metadata": {},
     "output_type": "execute_result"
    }
   ],
   "source": [
    "a = []\n",
    "for i in range (100):\n",
    "    if i%2 == 0:\n",
    "        a.append(i)\n",
    "        if len(a) == 10:\n",
    "            break\n",
    "a"
   ]
  },
  {
   "cell_type": "markdown",
   "metadata": {},
   "source": [
    "# 10. Write a program which accept name from user and display length of its name."
   ]
  },
  {
   "cell_type": "code",
   "execution_count": 12,
   "metadata": {},
   "outputs": [
    {
     "name": "stdout",
     "output_type": "stream",
     "text": [
      "Shruti\n"
     ]
    }
   ],
   "source": [
    "text = \"Shruti\"\n",
    "print(text)"
   ]
  },
  {
   "cell_type": "code",
   "execution_count": 13,
   "metadata": {},
   "outputs": [
    {
     "data": {
      "text/plain": [
       "6"
      ]
     },
     "execution_count": 13,
     "metadata": {},
     "output_type": "execute_result"
    }
   ],
   "source": [
    "len(text)"
   ]
  },
  {
   "cell_type": "code",
   "execution_count": null,
   "metadata": {},
   "outputs": [],
   "source": []
  }
 ],
 "metadata": {
  "kernelspec": {
   "display_name": "Python 3",
   "language": "python",
   "name": "python3"
  },
  "language_info": {
   "codemirror_mode": {
    "name": "ipython",
    "version": 3
   },
   "file_extension": ".py",
   "mimetype": "text/x-python",
   "name": "python",
   "nbconvert_exporter": "python",
   "pygments_lexer": "ipython3",
   "version": "3.7.6"
  }
 },
 "nbformat": 4,
 "nbformat_minor": 4
}
