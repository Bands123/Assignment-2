{
 "cells": [
  {
   "cell_type": "markdown",
   "metadata": {},
   "source": [
    "# 1. WRITE A FUNCTION THAT TAKES A VARIABLE AND SQUARE IT, THEN TEST THE FUNCTION BY TAKING AN INPUT FROM A USER"
   ]
  },
  {
   "cell_type": "code",
   "execution_count": 8,
   "metadata": {},
   "outputs": [
    {
     "name": "stdout",
     "output_type": "stream",
     "text": [
      "Enter the number: 4\n",
      "16\n"
     ]
    }
   ],
   "source": [
    "def function():\n",
    "    SQ = int(input(\"Enter the number: \"))\n",
    "    result = SQ**2\n",
    "    print(result)\n",
    "function()"
   ]
  },
  {
   "cell_type": "markdown",
   "metadata": {},
   "source": [
    "# 2. WRITE A FUNCTION THAT TAKES 2 VARIABLE AND OBTAIN THE SUMMATION AND MULTIPLICATION, THEN TEST THE FUNCTION BY TAKING AN INPUT FROM A USER (REPEAT USING LAMBDA EXPRESSIONS)"
   ]
  },
  {
   "cell_type": "code",
   "execution_count": 10,
   "metadata": {},
   "outputs": [
    {
     "name": "stdout",
     "output_type": "stream",
     "text": [
      "Enter the first number: 5\n",
      "Enter the second number: 8\n",
      "13\n",
      "40\n"
     ]
    }
   ],
   "source": [
    "# Solution type 1\n",
    "def function():\n",
    "    X = int(input(\"Enter the first number: \"))\n",
    "    Y = int(input(\"Enter the second number: \"))\n",
    "    output1 = X + Y\n",
    "    print(output1)\n",
    "\n",
    "    output2 = X * Y\n",
    "    print(output2)\n",
    "function()"
   ]
  },
  {
   "cell_type": "code",
   "execution_count": 12,
   "metadata": {},
   "outputs": [
    {
     "name": "stdout",
     "output_type": "stream",
     "text": [
      "Enther the first number: 5\n",
      "Enter the second number: 9\n",
      "Summation: 14\n",
      "Multiplication: 45\n"
     ]
    }
   ],
   "source": [
    "# Solution type 2\n",
    "def function(x,y):\n",
    "    sum = x + y\n",
    "    mul = x * y\n",
    "    return sum , mul\n",
    "test_lambda = lambda x,y: (x + y , x * y)\n",
    "\n",
    "def test_function():\n",
    "    x = int(input(\"Enther the first number: \"))\n",
    "    y = int(input(\"Enter the second number: \"))\n",
    "    sum , mul = function(x,y)\n",
    "    print(f\"Summation: {sum}\")\n",
    "    print(f\"Multiplication: {mul}\")\n",
    "    \n",
    "test_function()"
   ]
  },
  {
   "cell_type": "markdown",
   "metadata": {},
   "source": [
    " # 3. WRITE A FUNCTION THAT TAKES A VARIABLE AND RETURNS ITS FACTORIAL."
   ]
  },
  {
   "cell_type": "code",
   "execution_count": 13,
   "metadata": {},
   "outputs": [
    {
     "name": "stdout",
     "output_type": "stream",
     "text": [
      "Enter the number: 5\n",
      "The factorial of 5 is 120\n"
     ]
    }
   ],
   "source": [
    "def factorial(n):\n",
    "    if n == 0 or n ==1:\n",
    "        return 1\n",
    "    else:\n",
    "        return n * factorial(n - 1)\n",
    "fun = int(input(\"Enter the number: \"))\n",
    "result = factorial(fun)\n",
    "\n",
    "print(\"The factorial of {} is {}\" . format(fun,result))"
   ]
  },
  {
   "cell_type": "markdown",
   "metadata": {},
   "source": [
    "# 4. DEVELOP A SCRIPT WHOSE ITEMS ARE SQUARES OF THE ORIGINAL LIST"
   ]
  },
  {
   "cell_type": "code",
   "execution_count": 14,
   "metadata": {},
   "outputs": [
    {
     "name": "stdout",
     "output_type": "stream",
     "text": [
      "Originsl list:  [1, 2, 3, 4, 5]\n",
      "Square the element of Original list: \n",
      "[1, 4, 9, 16, 25]\n"
     ]
    }
   ],
   "source": [
    " def sqaure_num(n):\n",
    "        return n**2\n",
    "nums = [1,2,3,4,5]\n",
    "print('Originsl list: ', nums )\n",
    "    \n",
    "result = map(sqaure_num, nums )\n",
    "print('Square the element of Original list: ')\n",
    "print(list(result))"
   ]
  },
  {
   "cell_type": "markdown",
   "metadata": {},
   "source": [
    "# 5. WRITE A FUNCTION THAT SQUARES A VARIABLE AND THEN TEST THE FUNCTION USING A LIST OF INTEGER NUMBERS RANGING FROM -20 to 20"
   ]
  },
  {
   "cell_type": "code",
   "execution_count": 15,
   "metadata": {},
   "outputs": [
    {
     "name": "stdout",
     "output_type": "stream",
     "text": [
      "Original Numbers: [-20, -19, -18, -17, -16, -15, -14, -13, -12, -11, -10, -9, -8, -7, -6, -5, -4, -3, -2, -1, 0, 1, 2, 3, 4, 5, 6, 7, 8, 9, 10, 11, 12, 13, 14, 15, 16, 17, 18, 19, 20]\n",
      "Square Numbers: [400, 361, 324, 289, 256, 225, 196, 169, 144, 121, 100, 81, 64, 49, 36, 25, 16, 9, 4, 1, 0, 1, 4, 9, 16, 25, 36, 49, 64, 81, 100, 121, 144, 169, 196, 225, 256, 289, 324, 361, 400]\n"
     ]
    }
   ],
   "source": [
    "def square_number(n):\n",
    "    return n ** 2\n",
    "\n",
    "numbers = list(range(-20, 20+1))\n",
    "square_numbers = [square_number(n) for n in numbers]\n",
    "\n",
    "print(\"Original Numbers:\", numbers)\n",
    "print(\"Square Numbers:\", square_numbers)"
   ]
  },
  {
   "cell_type": "markdown",
   "metadata": {},
   "source": [
    "# 6. WRITE 3 FUNCTIONS THAT TAKE THE RADIUS OF A CIRCLE AND RETURN THE DIAMETER, AREA AND CIRCUMFERENCE, TEST THE FUNCTION USING AN INPUT FROM A USER"
   ]
  },
  {
   "cell_type": "code",
   "execution_count": 16,
   "metadata": {},
   "outputs": [
    {
     "name": "stdout",
     "output_type": "stream",
     "text": [
      "Enter the radius of the circle: 2\n",
      "Radius: 2\n",
      "Diameter: 4\n",
      "Area: 12.566370614359172\n",
      "Circumference: 12.566370614359172\n"
     ]
    }
   ],
   "source": [
    "import math\n",
    "\n",
    "def diameter(radius):\n",
    "    return 2 * radius\n",
    "\n",
    "def area(radius):\n",
    "    return math.pi * radius ** 2\n",
    "\n",
    "def circumference(radius):\n",
    "    return 2 * math.pi * radius\n",
    "\n",
    "radius = int(input(\"Enter the radius of the circle: \"))\n",
    "\n",
    "Diameter = diameter(radius)\n",
    "Area = area(radius)\n",
    "Circumference = circumference(radius)\n",
    "\n",
    "print(f\"Radius: {radius}\")\n",
    "print(f\"Diameter: {Diameter}\")\n",
    "print(f\"Area: {Area}\")\n",
    "print(f\"Circumference: {Circumference}\")"
   ]
  },
  {
   "cell_type": "markdown",
   "metadata": {},
   "source": [
    "# 7. WRITE A CODE THAT TAKES A RANGE FROM A USER (UPPER AND LOWER BOUND) AND RETURNS A LIST OF POSITIVE AND EVEN NUMBERS ONLY"
   ]
  },
  {
   "cell_type": "code",
   "execution_count": 17,
   "metadata": {},
   "outputs": [
    {
     "name": "stdout",
     "output_type": "stream",
     "text": [
      "Enter the lower bound of the range: 2\n",
      "Enter the upper bound of the range: 10\n",
      "Even numbers in the range: [2, 4, 6, 8, 10]\n"
     ]
    }
   ],
   "source": [
    "def num_range(lower, upper):\n",
    "    even_numbers = [num for num in range(lower, upper + 1) if num % 2 == 0 and num > 0]\n",
    "    return even_numbers\n",
    "\n",
    "lower_bound = int(input(\"Enter the lower bound of the range: \"))\n",
    "upper_bound = int(input(\"Enter the upper bound of the range: \"))\n",
    "\n",
    "even_numbers = num_range(lower_bound, upper_bound)\n",
    "print(\"Even numbers in the range:\", even_numbers)"
   ]
  },
  {
   "cell_type": "markdown",
   "metadata": {},
   "source": [
    "# 8. USING FILTER AND LAMBDA EXPRESSION, WRITE A CODE THAT TAKES A LIST OF NUMBERS BELOW AND RETURNS EVEN NUMBERS ONL"
   ]
  },
  {
   "cell_type": "code",
   "execution_count": 18,
   "metadata": {},
   "outputs": [
    {
     "name": "stdout",
     "output_type": "stream",
     "text": [
      "Even numbers: [2, 4, 6, 8, 10, 12, 14]\n"
     ]
    }
   ],
   "source": [
    "num = [1, 2, 3, 4, 5, 6, 7, 8, 9, 10,11,12,13,14,15]\n",
    "\n",
    "even_number = list(filter(lambda x: x % 2 == 0, num))\n",
    "\n",
    "print(\"Even numbers:\", even_number)"
   ]
  },
  {
   "cell_type": "markdown",
   "metadata": {},
   "source": [
    "# 9. WRITE A FUNCTION THAT TAKES TWO NUMPY MATRICES AND RETURN THE ADDITION, SUBTRACTION, TRANSPOSE, PRODUCT, DOT PRODUCT"
   ]
  },
  {
   "cell_type": "code",
   "execution_count": 19,
   "metadata": {},
   "outputs": [
    {
     "name": "stdout",
     "output_type": "stream",
     "text": [
      "Addition:\n",
      "[[ 4  6]\n",
      " [12 15]]\n",
      "\n",
      "Subtraction:\n",
      "[[-2 -2]\n",
      " [-2 -1]]\n",
      "\n",
      "Transpose Matrix 1:\n",
      "[[1 5]\n",
      " [2 7]]\n",
      "\n",
      "Transpose Matrix 2:\n",
      "[[3 7]\n",
      " [4 8]]\n",
      "\n",
      "Element-wise Product:\n",
      "[[ 3  8]\n",
      " [35 56]]\n",
      "\n",
      "Dot Product:\n",
      "[[17 20]\n",
      " [64 76]]\n",
      "\n"
     ]
    }
   ],
   "source": [
    "import numpy as np\n",
    "def matrix_operations(A, B):\n",
    "    add = np.add(A,B)\n",
    "    \n",
    "    sub = np.subtract(A,B)\n",
    "    \n",
    "    transpose1 = np.transpose(A)\n",
    "    transpose2 = np.transpose(B)\n",
    "    \n",
    "    elementwise_product = np.multiply(A,B)\n",
    "    \n",
    "    dot_product_result = np.dot(A,B)\n",
    "    \n",
    "    return {\n",
    "        \"Addition\": add,\n",
    "        \"Subtraction\": sub,\n",
    "        \"Transpose Matrix 1\": transpose1,\n",
    "        \"Transpose Matrix 2\": transpose2,\n",
    "        \"Element-wise Product\": elementwise_product,\n",
    "        \"Dot Product\": dot_product_result\n",
    "    }\n",
    "\n",
    "A = np.array([[1, 2], [5, 7]])\n",
    "B = np.array([[3, 4], [7, 8]])\n",
    "\n",
    "result = matrix_operations(A,B )\n",
    "\n",
    "for operation, result_matrix in result.items():\n",
    "    print(f\"{operation}:\\n{result_matrix}\\n\")"
   ]
  },
  {
   "cell_type": "markdown",
   "metadata": {},
   "source": [
    "# 10. WRITE A FUNCTION THAT TAKES TWO VALUES FROM A USER AND SUM THEM UP. IF NO VALUES ARE PROVIDED, ASSUME DEFAULT VALUES OF 3 AND 5"
   ]
  },
  {
   "cell_type": "code",
   "execution_count": 20,
   "metadata": {},
   "outputs": [
    {
     "name": "stdout",
     "output_type": "stream",
     "text": [
      "Enter the first value: 2\n",
      "Enter the second value: 8\n",
      "The sum of 2 and 8 is: 10\n"
     ]
    }
   ],
   "source": [
    "def sum_values(value1 = 3, value2 = 5):\n",
    "    result = value1 + value2\n",
    "    return result\n",
    "\n",
    "try:\n",
    "    user1 = int(input(\"Enter the first value: \"))\n",
    "    user2 = int(input(\"Enter the second value: \"))\n",
    "    Sum = sum_values(user1, user2)\n",
    "    print(\"The sum of {} and {} is: {}\" .format(user1 ,user2, Sum ))\n",
    "    \n",
    "except ValueError:\n",
    "    print(\"Invalid input. Using default values.\")\n",
    "    Sum = sum_values()\n",
    "    print(\"The sum of default values is: {}\".format(Sum))"
   ]
  },
  {
   "cell_type": "markdown",
   "metadata": {},
   "source": [
    "# 11. WRITE A SCRIPT THAT WILL PROMPT A USER FOR A RANGE (MIN/MAX VALUE) AND RETURNS NUMBERS THAT ARE DIVISIBLE BY 4 BUT ARE NOT MULTIPLES OF 3"
   ]
  },
  {
   "cell_type": "code",
   "execution_count": 22,
   "metadata": {},
   "outputs": [
    {
     "name": "stdout",
     "output_type": "stream",
     "text": [
      "Enter the minimum value of the range: 24\n",
      "Enter the maximum value of the range: 16\n",
      "Invalid range: Minimum value is greater than maximum value.\n"
     ]
    }
   ],
   "source": [
    "def filter_numbers(min_value, max_value):\n",
    "    filtered_numbers = [num for num in range(min_value, max_value + 1) if num % 4 == 0 and num % 3 != 0]\n",
    "    return filtered_numbers\n",
    "\n",
    "try:\n",
    "    min_range = int(input(\"Enter the minimum value of the range: \"))\n",
    "    max_range = int(input(\"Enter the maximum value of the range: \"))\n",
    "\n",
    "    if min_range > max_range:\n",
    "        print(\"Invalid range: Minimum value is greater than maximum value.\")\n",
    "    else:\n",
    "        result = filter_numbers(min_range, max_range)\n",
    "        if result:\n",
    "            print(f\"Numbers divisible by 4 but not multiples of 3 within the range {min_range}-{max_range}:\")\n",
    "            print(result)\n",
    "        else:\n",
    "            print(\"No numbers found that meet the criteria.\")\n",
    "except ValueError:\n",
    "    print(\"Invalid input. Please enter valid integer values for the range.\")"
   ]
  },
  {
   "cell_type": "markdown",
   "metadata": {},
   "source": [
    "# 12. DEFINE AN ENGLISH TO FRENCH TRANSLATOR FUNCTION THAT TAKES AN INPUT FROM A USER AND RETURNS THE TRANSLATION, USE ANY 5 KNOWN WORDS"
   ]
  },
  {
   "cell_type": "code",
   "execution_count": 23,
   "metadata": {},
   "outputs": [
    {
     "name": "stdout",
     "output_type": "stream",
     "text": [
      "Enter an English word to translate to French: hello\n",
      "Translation: bonjour\n"
     ]
    }
   ],
   "source": [
    "def English_French(word):\n",
    "    translations = {\n",
    "        \"hello\": \"bonjour\",\n",
    "        \"apple\": \"pomme\",\n",
    "        \"cat\": \"chat\",\n",
    "        \"book\": \"livre\",\n",
    "        \"house\": \"maison\"\n",
    "    }\n",
    "\n",
    "    return translations.get(word.lower(), \"Translation not available\")\n",
    "\n",
    "input_word = input(\"Enter an English word to translate to French: \")\n",
    "translation = English_French(input_word)\n",
    "\n",
    "print(\"Translation:\", translation)"
   ]
  },
  {
   "cell_type": "code",
   "execution_count": null,
   "metadata": {},
   "outputs": [],
   "source": []
  }
 ],
 "metadata": {
  "kernelspec": {
   "display_name": "Python 3",
   "language": "python",
   "name": "python3"
  },
  "language_info": {
   "codemirror_mode": {
    "name": "ipython",
    "version": 3
   },
   "file_extension": ".py",
   "mimetype": "text/x-python",
   "name": "python",
   "nbconvert_exporter": "python",
   "pygments_lexer": "ipython3",
   "version": "3.7.6"
  }
 },
 "nbformat": 4,
 "nbformat_minor": 4
}
